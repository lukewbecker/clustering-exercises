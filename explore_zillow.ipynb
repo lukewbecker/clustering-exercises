{
 "cells": [
  {
   "cell_type": "code",
   "execution_count": 2,
   "metadata": {},
   "outputs": [],
   "source": [
    "#Libraries\n",
    "\n",
    "# ignore warnings\n",
    "import warnings\n",
    "warnings.filterwarnings(\"ignore\")\n",
    "\n",
    "# Wrangling\n",
    "import pandas as pd\n",
    "import numpy as np\n",
    "\n",
    "# preparing\n",
    "from sklearn.model_selection import train_test_split\n",
    "from sklearn.metrics import mean_squared_error, explained_variance_score\n",
    "\n",
    "# modeling and evaluating\n",
    "from sklearn.linear_model import LinearRegression, LassoLars\n",
    "from sklearn.linear_model import TweedieRegressor\n",
    "from sklearn.feature_selection import RFE\n",
    "from sklearn.preprocessing import PolynomialFeatures\n",
    "from sklearn.preprocessing import MinMaxScaler, RobustScaler, StandardScaler\n",
    "from sklearn.preprocessing import PolynomialFeatures\n",
    "\n",
    "# Exploring\n",
    "import scipy.stats as stats\n",
    "import math\n",
    "\n",
    "# Visualizing\n",
    "import matplotlib.pyplot as plt\n",
    "from matplotlib import cm\n",
    "import seaborn as sns\n",
    "from sklearn.model_selection import learning_curve\n",
    "%matplotlib inline\n",
    "\n",
    "# default pandas decimal number display format\n",
    "# pd.options.display.float_format = '{:20,.2f}'.format"
   ]
  },
  {
   "cell_type": "code",
   "execution_count": 3,
   "metadata": {},
   "outputs": [
    {
     "name": "stdout",
     "output_type": "stream",
     "text": [
      "credentials loaded successfully\n",
      "End of file.\n",
      "Loaded zillow wrangle functions successfully.\n"
     ]
    }
   ],
   "source": [
    "import os\n",
    "import env\n",
    "import acquire\n",
    "import wrangle_zillow"
   ]
  },
  {
   "cell_type": "code",
   "execution_count": 4,
   "metadata": {},
   "outputs": [],
   "source": [
    "pd.options.display.max_columns = 50"
   ]
  },
  {
   "cell_type": "markdown",
   "metadata": {},
   "source": [
    "## Acquire and Prep\n",
    "\n",
    "I wasn't able to get all these functions into one \"big\" function, so for now I'll just run them separately."
   ]
  },
  {
   "cell_type": "code",
   "execution_count": 5,
   "metadata": {},
   "outputs": [
    {
     "data": {
      "text/plain": [
       "(77381, 70)"
      ]
     },
     "execution_count": 5,
     "metadata": {},
     "output_type": "execute_result"
    }
   ],
   "source": [
    "df = wrangle_zillow.get_zillow_data()\n",
    "df.shape"
   ]
  },
  {
   "cell_type": "code",
   "execution_count": 6,
   "metadata": {},
   "outputs": [
    {
     "data": {
      "text/plain": [
       "(77381, 61)"
      ]
     },
     "execution_count": 6,
     "metadata": {},
     "output_type": "execute_result"
    }
   ],
   "source": [
    "df = wrangle_zillow.drop_cols(df)\n",
    "df.shape"
   ]
  },
  {
   "cell_type": "code",
   "execution_count": 7,
   "metadata": {},
   "outputs": [],
   "source": [
    "id_list = [261.0, 260.0, 262.0, 263.0, 264.0]"
   ]
  },
  {
   "cell_type": "code",
   "execution_count": 8,
   "metadata": {},
   "outputs": [
    {
     "data": {
      "text/plain": [
       "(52244, 61)"
      ]
     },
     "execution_count": 8,
     "metadata": {},
     "output_type": "execute_result"
    }
   ],
   "source": [
    "df = wrangle_zillow.prep_data(df, id_list)\n",
    "df.shape"
   ]
  },
  {
   "cell_type": "code",
   "execution_count": 9,
   "metadata": {},
   "outputs": [
    {
     "data": {
      "text/plain": [
       "(52244, 27)"
      ]
     },
     "execution_count": 9,
     "metadata": {},
     "output_type": "execute_result"
    }
   ],
   "source": [
    "df = wrangle_zillow.handle_missing_values(df)\n",
    "df.shape"
   ]
  },
  {
   "cell_type": "code",
   "execution_count": 10,
   "metadata": {},
   "outputs": [
    {
     "data": {
      "text/html": [
       "<div>\n",
       "<style scoped>\n",
       "    .dataframe tbody tr th:only-of-type {\n",
       "        vertical-align: middle;\n",
       "    }\n",
       "\n",
       "    .dataframe tbody tr th {\n",
       "        vertical-align: top;\n",
       "    }\n",
       "\n",
       "    .dataframe thead th {\n",
       "        text-align: right;\n",
       "    }\n",
       "</style>\n",
       "<table border=\"1\" class=\"dataframe\">\n",
       "  <thead>\n",
       "    <tr style=\"text-align: right;\">\n",
       "      <th></th>\n",
       "      <th>parcelid</th>\n",
       "      <th>propertylandusetypeid</th>\n",
       "      <th>heatingorsystemtypeid</th>\n",
       "      <th>bathroomcnt</th>\n",
       "      <th>bedroomcnt</th>\n",
       "      <th>buildingqualitytypeid</th>\n",
       "      <th>calculatedfinishedsquarefeet</th>\n",
       "      <th>fips</th>\n",
       "      <th>fullbathcnt</th>\n",
       "      <th>latitude</th>\n",
       "      <th>longitude</th>\n",
       "      <th>lotsizesquarefeet</th>\n",
       "      <th>propertycountylandusecode</th>\n",
       "      <th>regionidcity</th>\n",
       "      <th>regionidcounty</th>\n",
       "      <th>regionidzip</th>\n",
       "      <th>roomcnt</th>\n",
       "      <th>unitcnt</th>\n",
       "      <th>yearbuilt</th>\n",
       "      <th>structuretaxvaluedollarcnt</th>\n",
       "      <th>taxvaluedollarcnt</th>\n",
       "      <th>assessmentyear</th>\n",
       "      <th>landtaxvaluedollarcnt</th>\n",
       "      <th>taxamount</th>\n",
       "      <th>censustractandblock</th>\n",
       "      <th>logerror</th>\n",
       "      <th>tdate</th>\n",
       "    </tr>\n",
       "  </thead>\n",
       "  <tbody>\n",
       "    <tr>\n",
       "      <th>0</th>\n",
       "      <td>14297519</td>\n",
       "      <td>261.0</td>\n",
       "      <td>NaN</td>\n",
       "      <td>3.5</td>\n",
       "      <td>4.0</td>\n",
       "      <td>NaN</td>\n",
       "      <td>3100.0</td>\n",
       "      <td>6059.0</td>\n",
       "      <td>3.0</td>\n",
       "      <td>33.634931</td>\n",
       "      <td>-117.869207</td>\n",
       "      <td>4506.0</td>\n",
       "      <td>122</td>\n",
       "      <td>53571.0</td>\n",
       "      <td>1286.0</td>\n",
       "      <td>96978.0</td>\n",
       "      <td>0.0</td>\n",
       "      <td>1.0</td>\n",
       "      <td>1998.0</td>\n",
       "      <td>485713.0</td>\n",
       "      <td>1023282.0</td>\n",
       "      <td>2016.0</td>\n",
       "      <td>537569.0</td>\n",
       "      <td>11013.72</td>\n",
       "      <td>6.059063e+13</td>\n",
       "      <td>0.025595</td>\n",
       "      <td>2017-01-01</td>\n",
       "    </tr>\n",
       "    <tr>\n",
       "      <th>1</th>\n",
       "      <td>17052889</td>\n",
       "      <td>261.0</td>\n",
       "      <td>NaN</td>\n",
       "      <td>1.0</td>\n",
       "      <td>2.0</td>\n",
       "      <td>NaN</td>\n",
       "      <td>1465.0</td>\n",
       "      <td>6111.0</td>\n",
       "      <td>1.0</td>\n",
       "      <td>34.449266</td>\n",
       "      <td>-119.281531</td>\n",
       "      <td>12647.0</td>\n",
       "      <td>1110</td>\n",
       "      <td>13091.0</td>\n",
       "      <td>2061.0</td>\n",
       "      <td>97099.0</td>\n",
       "      <td>5.0</td>\n",
       "      <td>1.0</td>\n",
       "      <td>1967.0</td>\n",
       "      <td>88000.0</td>\n",
       "      <td>464000.0</td>\n",
       "      <td>2016.0</td>\n",
       "      <td>376000.0</td>\n",
       "      <td>5672.48</td>\n",
       "      <td>6.111001e+13</td>\n",
       "      <td>0.055619</td>\n",
       "      <td>2017-01-01</td>\n",
       "    </tr>\n",
       "    <tr>\n",
       "      <th>2</th>\n",
       "      <td>14186244</td>\n",
       "      <td>261.0</td>\n",
       "      <td>NaN</td>\n",
       "      <td>2.0</td>\n",
       "      <td>3.0</td>\n",
       "      <td>NaN</td>\n",
       "      <td>1243.0</td>\n",
       "      <td>6059.0</td>\n",
       "      <td>2.0</td>\n",
       "      <td>33.886168</td>\n",
       "      <td>-117.823170</td>\n",
       "      <td>8432.0</td>\n",
       "      <td>122</td>\n",
       "      <td>21412.0</td>\n",
       "      <td>1286.0</td>\n",
       "      <td>97078.0</td>\n",
       "      <td>6.0</td>\n",
       "      <td>1.0</td>\n",
       "      <td>1962.0</td>\n",
       "      <td>85289.0</td>\n",
       "      <td>564778.0</td>\n",
       "      <td>2016.0</td>\n",
       "      <td>479489.0</td>\n",
       "      <td>6488.30</td>\n",
       "      <td>6.059022e+13</td>\n",
       "      <td>0.005383</td>\n",
       "      <td>2017-01-01</td>\n",
       "    </tr>\n",
       "    <tr>\n",
       "      <th>3</th>\n",
       "      <td>12177905</td>\n",
       "      <td>261.0</td>\n",
       "      <td>2.0</td>\n",
       "      <td>3.0</td>\n",
       "      <td>4.0</td>\n",
       "      <td>8.0</td>\n",
       "      <td>2376.0</td>\n",
       "      <td>6037.0</td>\n",
       "      <td>3.0</td>\n",
       "      <td>34.245180</td>\n",
       "      <td>-118.240722</td>\n",
       "      <td>13038.0</td>\n",
       "      <td>0101</td>\n",
       "      <td>396551.0</td>\n",
       "      <td>3101.0</td>\n",
       "      <td>96330.0</td>\n",
       "      <td>0.0</td>\n",
       "      <td>1.0</td>\n",
       "      <td>1970.0</td>\n",
       "      <td>108918.0</td>\n",
       "      <td>145143.0</td>\n",
       "      <td>2016.0</td>\n",
       "      <td>36225.0</td>\n",
       "      <td>1777.51</td>\n",
       "      <td>6.037300e+13</td>\n",
       "      <td>-0.103410</td>\n",
       "      <td>2017-01-01</td>\n",
       "    </tr>\n",
       "    <tr>\n",
       "      <th>6</th>\n",
       "      <td>12095076</td>\n",
       "      <td>261.0</td>\n",
       "      <td>2.0</td>\n",
       "      <td>3.0</td>\n",
       "      <td>4.0</td>\n",
       "      <td>9.0</td>\n",
       "      <td>2962.0</td>\n",
       "      <td>6037.0</td>\n",
       "      <td>3.0</td>\n",
       "      <td>34.145202</td>\n",
       "      <td>-118.179824</td>\n",
       "      <td>63000.0</td>\n",
       "      <td>0101</td>\n",
       "      <td>47019.0</td>\n",
       "      <td>3101.0</td>\n",
       "      <td>96293.0</td>\n",
       "      <td>0.0</td>\n",
       "      <td>1.0</td>\n",
       "      <td>1950.0</td>\n",
       "      <td>276684.0</td>\n",
       "      <td>773303.0</td>\n",
       "      <td>2016.0</td>\n",
       "      <td>496619.0</td>\n",
       "      <td>9516.26</td>\n",
       "      <td>6.037461e+13</td>\n",
       "      <td>-0.001011</td>\n",
       "      <td>2017-01-01</td>\n",
       "    </tr>\n",
       "  </tbody>\n",
       "</table>\n",
       "</div>"
      ],
      "text/plain": [
       "   parcelid  propertylandusetypeid  heatingorsystemtypeid  bathroomcnt  \\\n",
       "0  14297519                  261.0                    NaN          3.5   \n",
       "1  17052889                  261.0                    NaN          1.0   \n",
       "2  14186244                  261.0                    NaN          2.0   \n",
       "3  12177905                  261.0                    2.0          3.0   \n",
       "6  12095076                  261.0                    2.0          3.0   \n",
       "\n",
       "   bedroomcnt  buildingqualitytypeid  calculatedfinishedsquarefeet    fips  \\\n",
       "0         4.0                    NaN                        3100.0  6059.0   \n",
       "1         2.0                    NaN                        1465.0  6111.0   \n",
       "2         3.0                    NaN                        1243.0  6059.0   \n",
       "3         4.0                    8.0                        2376.0  6037.0   \n",
       "6         4.0                    9.0                        2962.0  6037.0   \n",
       "\n",
       "   fullbathcnt   latitude   longitude  lotsizesquarefeet  \\\n",
       "0          3.0  33.634931 -117.869207             4506.0   \n",
       "1          1.0  34.449266 -119.281531            12647.0   \n",
       "2          2.0  33.886168 -117.823170             8432.0   \n",
       "3          3.0  34.245180 -118.240722            13038.0   \n",
       "6          3.0  34.145202 -118.179824            63000.0   \n",
       "\n",
       "  propertycountylandusecode  regionidcity  regionidcounty  regionidzip  \\\n",
       "0                       122       53571.0          1286.0      96978.0   \n",
       "1                      1110       13091.0          2061.0      97099.0   \n",
       "2                       122       21412.0          1286.0      97078.0   \n",
       "3                      0101      396551.0          3101.0      96330.0   \n",
       "6                      0101       47019.0          3101.0      96293.0   \n",
       "\n",
       "   roomcnt  unitcnt  yearbuilt  structuretaxvaluedollarcnt  taxvaluedollarcnt  \\\n",
       "0      0.0      1.0     1998.0                    485713.0          1023282.0   \n",
       "1      5.0      1.0     1967.0                     88000.0           464000.0   \n",
       "2      6.0      1.0     1962.0                     85289.0           564778.0   \n",
       "3      0.0      1.0     1970.0                    108918.0           145143.0   \n",
       "6      0.0      1.0     1950.0                    276684.0           773303.0   \n",
       "\n",
       "   assessmentyear  landtaxvaluedollarcnt  taxamount  censustractandblock  \\\n",
       "0          2016.0               537569.0   11013.72         6.059063e+13   \n",
       "1          2016.0               376000.0    5672.48         6.111001e+13   \n",
       "2          2016.0               479489.0    6488.30         6.059022e+13   \n",
       "3          2016.0                36225.0    1777.51         6.037300e+13   \n",
       "6          2016.0               496619.0    9516.26         6.037461e+13   \n",
       "\n",
       "   logerror       tdate  \n",
       "0  0.025595  2017-01-01  \n",
       "1  0.055619  2017-01-01  \n",
       "2  0.005383  2017-01-01  \n",
       "3 -0.103410  2017-01-01  \n",
       "6 -0.001011  2017-01-01  "
      ]
     },
     "execution_count": 10,
     "metadata": {},
     "output_type": "execute_result"
    }
   ],
   "source": [
    "\n",
    "df.head()"
   ]
  },
  {
   "cell_type": "code",
   "execution_count": 11,
   "metadata": {},
   "outputs": [
    {
     "name": "stdout",
     "output_type": "stream",
     "text": [
      "Shape of train df: (35525, 27)\n",
      "Shape of validate df: (8882, 27)\n",
      "Shape of test df: (7837, 27)\n"
     ]
    },
    {
     "data": {
      "text/html": [
       "<div>\n",
       "<style scoped>\n",
       "    .dataframe tbody tr th:only-of-type {\n",
       "        vertical-align: middle;\n",
       "    }\n",
       "\n",
       "    .dataframe tbody tr th {\n",
       "        vertical-align: top;\n",
       "    }\n",
       "\n",
       "    .dataframe thead th {\n",
       "        text-align: right;\n",
       "    }\n",
       "</style>\n",
       "<table border=\"1\" class=\"dataframe\">\n",
       "  <thead>\n",
       "    <tr style=\"text-align: right;\">\n",
       "      <th></th>\n",
       "      <th>parcelid</th>\n",
       "      <th>propertylandusetypeid</th>\n",
       "      <th>heatingorsystemtypeid</th>\n",
       "      <th>bathroomcnt</th>\n",
       "      <th>bedroomcnt</th>\n",
       "      <th>buildingqualitytypeid</th>\n",
       "      <th>calculatedfinishedsquarefeet</th>\n",
       "      <th>fips</th>\n",
       "      <th>fullbathcnt</th>\n",
       "      <th>latitude</th>\n",
       "      <th>longitude</th>\n",
       "      <th>lotsizesquarefeet</th>\n",
       "      <th>propertycountylandusecode</th>\n",
       "      <th>regionidcity</th>\n",
       "      <th>regionidcounty</th>\n",
       "      <th>regionidzip</th>\n",
       "      <th>roomcnt</th>\n",
       "      <th>unitcnt</th>\n",
       "      <th>yearbuilt</th>\n",
       "      <th>structuretaxvaluedollarcnt</th>\n",
       "      <th>taxvaluedollarcnt</th>\n",
       "      <th>assessmentyear</th>\n",
       "      <th>landtaxvaluedollarcnt</th>\n",
       "      <th>taxamount</th>\n",
       "      <th>censustractandblock</th>\n",
       "      <th>logerror</th>\n",
       "      <th>tdate</th>\n",
       "    </tr>\n",
       "  </thead>\n",
       "  <tbody>\n",
       "    <tr>\n",
       "      <th>2002</th>\n",
       "      <td>10947165</td>\n",
       "      <td>261.0</td>\n",
       "      <td>2.0</td>\n",
       "      <td>3.0</td>\n",
       "      <td>3.0</td>\n",
       "      <td>8.0</td>\n",
       "      <td>2273.0</td>\n",
       "      <td>6037.0</td>\n",
       "      <td>3.0</td>\n",
       "      <td>34.189628</td>\n",
       "      <td>-118.293775</td>\n",
       "      <td>7467.0</td>\n",
       "      <td>0102</td>\n",
       "      <td>396054.0</td>\n",
       "      <td>3101.0</td>\n",
       "      <td>96433.0</td>\n",
       "      <td>0.0</td>\n",
       "      <td>1.0</td>\n",
       "      <td>1937.0</td>\n",
       "      <td>274117.0</td>\n",
       "      <td>913724.0</td>\n",
       "      <td>2016.0</td>\n",
       "      <td>639607.0</td>\n",
       "      <td>10048.09</td>\n",
       "      <td>6.037310e+13</td>\n",
       "      <td>0.030392</td>\n",
       "      <td>2017-01-10</td>\n",
       "    </tr>\n",
       "    <tr>\n",
       "      <th>65683</th>\n",
       "      <td>10920910</td>\n",
       "      <td>261.0</td>\n",
       "      <td>7.0</td>\n",
       "      <td>2.0</td>\n",
       "      <td>3.0</td>\n",
       "      <td>6.0</td>\n",
       "      <td>1656.0</td>\n",
       "      <td>6037.0</td>\n",
       "      <td>2.0</td>\n",
       "      <td>34.225516</td>\n",
       "      <td>-118.358875</td>\n",
       "      <td>5982.0</td>\n",
       "      <td>0104</td>\n",
       "      <td>12447.0</td>\n",
       "      <td>3101.0</td>\n",
       "      <td>96375.0</td>\n",
       "      <td>0.0</td>\n",
       "      <td>1.0</td>\n",
       "      <td>1950.0</td>\n",
       "      <td>50745.0</td>\n",
       "      <td>70394.0</td>\n",
       "      <td>2016.0</td>\n",
       "      <td>19649.0</td>\n",
       "      <td>989.63</td>\n",
       "      <td>6.037102e+13</td>\n",
       "      <td>0.671934</td>\n",
       "      <td>2017-08-11</td>\n",
       "    </tr>\n",
       "    <tr>\n",
       "      <th>40224</th>\n",
       "      <td>11015158</td>\n",
       "      <td>261.0</td>\n",
       "      <td>2.0</td>\n",
       "      <td>4.0</td>\n",
       "      <td>5.0</td>\n",
       "      <td>8.0</td>\n",
       "      <td>2260.0</td>\n",
       "      <td>6037.0</td>\n",
       "      <td>4.0</td>\n",
       "      <td>34.294273</td>\n",
       "      <td>-118.503196</td>\n",
       "      <td>13749.0</td>\n",
       "      <td>0100</td>\n",
       "      <td>12447.0</td>\n",
       "      <td>3101.0</td>\n",
       "      <td>96370.0</td>\n",
       "      <td>0.0</td>\n",
       "      <td>1.0</td>\n",
       "      <td>1961.0</td>\n",
       "      <td>66668.0</td>\n",
       "      <td>109724.0</td>\n",
       "      <td>2016.0</td>\n",
       "      <td>43056.0</td>\n",
       "      <td>1532.36</td>\n",
       "      <td>6.037107e+13</td>\n",
       "      <td>0.023461</td>\n",
       "      <td>2017-05-26</td>\n",
       "    </tr>\n",
       "    <tr>\n",
       "      <th>24802</th>\n",
       "      <td>12486065</td>\n",
       "      <td>261.0</td>\n",
       "      <td>7.0</td>\n",
       "      <td>1.0</td>\n",
       "      <td>3.0</td>\n",
       "      <td>4.0</td>\n",
       "      <td>1092.0</td>\n",
       "      <td>6037.0</td>\n",
       "      <td>1.0</td>\n",
       "      <td>33.846405</td>\n",
       "      <td>-118.120067</td>\n",
       "      <td>5000.0</td>\n",
       "      <td>0100</td>\n",
       "      <td>12292.0</td>\n",
       "      <td>3101.0</td>\n",
       "      <td>96213.0</td>\n",
       "      <td>0.0</td>\n",
       "      <td>1.0</td>\n",
       "      <td>1950.0</td>\n",
       "      <td>100000.0</td>\n",
       "      <td>500000.0</td>\n",
       "      <td>2016.0</td>\n",
       "      <td>400000.0</td>\n",
       "      <td>6113.08</td>\n",
       "      <td>6.037571e+13</td>\n",
       "      <td>0.002005</td>\n",
       "      <td>2017-04-10</td>\n",
       "    </tr>\n",
       "    <tr>\n",
       "      <th>48312</th>\n",
       "      <td>11071671</td>\n",
       "      <td>261.0</td>\n",
       "      <td>2.0</td>\n",
       "      <td>4.0</td>\n",
       "      <td>4.0</td>\n",
       "      <td>7.0</td>\n",
       "      <td>3473.0</td>\n",
       "      <td>6037.0</td>\n",
       "      <td>4.0</td>\n",
       "      <td>34.265126</td>\n",
       "      <td>-118.580861</td>\n",
       "      <td>10301.0</td>\n",
       "      <td>0100</td>\n",
       "      <td>12447.0</td>\n",
       "      <td>3101.0</td>\n",
       "      <td>96346.0</td>\n",
       "      <td>0.0</td>\n",
       "      <td>1.0</td>\n",
       "      <td>1983.0</td>\n",
       "      <td>327160.0</td>\n",
       "      <td>768661.0</td>\n",
       "      <td>2016.0</td>\n",
       "      <td>441501.0</td>\n",
       "      <td>9419.42</td>\n",
       "      <td>6.037113e+13</td>\n",
       "      <td>0.098492</td>\n",
       "      <td>2017-06-20</td>\n",
       "    </tr>\n",
       "  </tbody>\n",
       "</table>\n",
       "</div>"
      ],
      "text/plain": [
       "       parcelid  propertylandusetypeid  heatingorsystemtypeid  bathroomcnt  \\\n",
       "2002   10947165                  261.0                    2.0          3.0   \n",
       "65683  10920910                  261.0                    7.0          2.0   \n",
       "40224  11015158                  261.0                    2.0          4.0   \n",
       "24802  12486065                  261.0                    7.0          1.0   \n",
       "48312  11071671                  261.0                    2.0          4.0   \n",
       "\n",
       "       bedroomcnt  buildingqualitytypeid  calculatedfinishedsquarefeet  \\\n",
       "2002          3.0                    8.0                        2273.0   \n",
       "65683         3.0                    6.0                        1656.0   \n",
       "40224         5.0                    8.0                        2260.0   \n",
       "24802         3.0                    4.0                        1092.0   \n",
       "48312         4.0                    7.0                        3473.0   \n",
       "\n",
       "         fips  fullbathcnt   latitude   longitude  lotsizesquarefeet  \\\n",
       "2002   6037.0          3.0  34.189628 -118.293775             7467.0   \n",
       "65683  6037.0          2.0  34.225516 -118.358875             5982.0   \n",
       "40224  6037.0          4.0  34.294273 -118.503196            13749.0   \n",
       "24802  6037.0          1.0  33.846405 -118.120067             5000.0   \n",
       "48312  6037.0          4.0  34.265126 -118.580861            10301.0   \n",
       "\n",
       "      propertycountylandusecode  regionidcity  regionidcounty  regionidzip  \\\n",
       "2002                       0102      396054.0          3101.0      96433.0   \n",
       "65683                      0104       12447.0          3101.0      96375.0   \n",
       "40224                      0100       12447.0          3101.0      96370.0   \n",
       "24802                      0100       12292.0          3101.0      96213.0   \n",
       "48312                      0100       12447.0          3101.0      96346.0   \n",
       "\n",
       "       roomcnt  unitcnt  yearbuilt  structuretaxvaluedollarcnt  \\\n",
       "2002       0.0      1.0     1937.0                    274117.0   \n",
       "65683      0.0      1.0     1950.0                     50745.0   \n",
       "40224      0.0      1.0     1961.0                     66668.0   \n",
       "24802      0.0      1.0     1950.0                    100000.0   \n",
       "48312      0.0      1.0     1983.0                    327160.0   \n",
       "\n",
       "       taxvaluedollarcnt  assessmentyear  landtaxvaluedollarcnt  taxamount  \\\n",
       "2002            913724.0          2016.0               639607.0   10048.09   \n",
       "65683            70394.0          2016.0                19649.0     989.63   \n",
       "40224           109724.0          2016.0                43056.0    1532.36   \n",
       "24802           500000.0          2016.0               400000.0    6113.08   \n",
       "48312           768661.0          2016.0               441501.0    9419.42   \n",
       "\n",
       "       censustractandblock  logerror       tdate  \n",
       "2002          6.037310e+13  0.030392  2017-01-10  \n",
       "65683         6.037102e+13  0.671934  2017-08-11  \n",
       "40224         6.037107e+13  0.023461  2017-05-26  \n",
       "24802         6.037571e+13  0.002005  2017-04-10  \n",
       "48312         6.037113e+13  0.098492  2017-06-20  "
      ]
     },
     "execution_count": 11,
     "metadata": {},
     "output_type": "execute_result"
    }
   ],
   "source": [
    "train, validate, test = wrangle_zillow.split_zillow_data(df)\n",
    "train.head()"
   ]
  },
  {
   "cell_type": "code",
   "execution_count": 12,
   "metadata": {},
   "outputs": [],
   "source": [
    "train, validate, test = wrangle_zillow.impute_missing_values_all(train, validate, test)"
   ]
  },
  {
   "cell_type": "code",
   "execution_count": 13,
   "metadata": {},
   "outputs": [
    {
     "data": {
      "text/plain": [
       "parcelid                        0\n",
       "censustractandblock             0\n",
       "taxamount                       0\n",
       "landtaxvaluedollarcnt           0\n",
       "assessmentyear                  0\n",
       "taxvaluedollarcnt               0\n",
       "structuretaxvaluedollarcnt      0\n",
       "yearbuilt                       0\n",
       "unitcnt                         0\n",
       "roomcnt                         0\n",
       "regionidzip                     0\n",
       "regionidcounty                  0\n",
       "logerror                        0\n",
       "regionidcity                    0\n",
       "lotsizesquarefeet               0\n",
       "longitude                       0\n",
       "latitude                        0\n",
       "fullbathcnt                     0\n",
       "fips                            0\n",
       "calculatedfinishedsquarefeet    0\n",
       "buildingqualitytypeid           0\n",
       "bedroomcnt                      0\n",
       "bathroomcnt                     0\n",
       "heatingorsystemtypeid           0\n",
       "propertylandusetypeid           0\n",
       "propertycountylandusecode       0\n",
       "tdate                           0\n",
       "dtype: int64"
      ]
     },
     "execution_count": 13,
     "metadata": {},
     "output_type": "execute_result"
    }
   ],
   "source": [
    "train.isnull().sum().sort_values()"
   ]
  },
  {
   "cell_type": "code",
   "execution_count": 14,
   "metadata": {},
   "outputs": [],
   "source": [
    "# Rough prep, but I should be ready for explore now."
   ]
  },
  {
   "cell_type": "markdown",
   "metadata": {},
   "source": [
    "# Explore Stage"
   ]
  },
  {
   "cell_type": "markdown",
   "metadata": {},
   "source": [
    "### Create a python script or jupyter notebook named explore_zillow and do the following:\n",
    "\n",
    "1. Ask at least 5 questions about the data, keeping in mind that your target variable is logerror. e.g. Is logerror significantly different for properties in LA County vs Orange County vs Ventura County?\n",
    "\n",
    "2. Answer those questions through a mix of statistical tests and visualizations.\n",
    "\n",
    "#### In your exploration, be sure you include the following:\n",
    "\n",
    "1. a plot with at least 3 dimensions, such as x, y, and color.\n",
    "\n",
    "2. at least 3 different types of plots (like box, scatter, bar, ...)\n",
    "\n",
    "3. at least 2 statistical tests.\n",
    "\n",
    "4. document takeaways/conclusions after each question is addressed.\n",
    "\n",
    "5. **Bonus:** Compute the mean(logerror) by zipcode and the overall mean(logerror). Write a loop that will run a t-test between the overall mean and the mean for each zip code. We want to identify the zip codes where the error is significantly higher or lower than the expected error."
   ]
  },
  {
   "cell_type": "code",
   "execution_count": 15,
   "metadata": {},
   "outputs": [
    {
     "name": "stdout",
     "output_type": "stream",
     "text": [
      "<class 'pandas.core.frame.DataFrame'>\n",
      "Int64Index: 35525 entries, 2002 to 36494\n",
      "Data columns (total 27 columns):\n",
      " #   Column                        Non-Null Count  Dtype  \n",
      "---  ------                        --------------  -----  \n",
      " 0   parcelid                      35525 non-null  int64  \n",
      " 1   propertylandusetypeid         35525 non-null  float64\n",
      " 2   heatingorsystemtypeid         35525 non-null  float64\n",
      " 3   bathroomcnt                   35525 non-null  float64\n",
      " 4   bedroomcnt                    35525 non-null  float64\n",
      " 5   buildingqualitytypeid         35525 non-null  float64\n",
      " 6   calculatedfinishedsquarefeet  35525 non-null  float64\n",
      " 7   fips                          35525 non-null  float64\n",
      " 8   fullbathcnt                   35525 non-null  float64\n",
      " 9   latitude                      35525 non-null  float64\n",
      " 10  longitude                     35525 non-null  float64\n",
      " 11  lotsizesquarefeet             35525 non-null  float64\n",
      " 12  propertycountylandusecode     35525 non-null  object \n",
      " 13  regionidcity                  35525 non-null  float64\n",
      " 14  regionidcounty                35525 non-null  float64\n",
      " 15  regionidzip                   35525 non-null  float64\n",
      " 16  roomcnt                       35525 non-null  float64\n",
      " 17  unitcnt                       35525 non-null  float64\n",
      " 18  yearbuilt                     35525 non-null  float64\n",
      " 19  structuretaxvaluedollarcnt    35525 non-null  float64\n",
      " 20  taxvaluedollarcnt             35525 non-null  float64\n",
      " 21  assessmentyear                35525 non-null  float64\n",
      " 22  landtaxvaluedollarcnt         35525 non-null  float64\n",
      " 23  taxamount                     35525 non-null  float64\n",
      " 24  censustractandblock           35525 non-null  float64\n",
      " 25  logerror                      35525 non-null  float64\n",
      " 26  tdate                         35525 non-null  object \n",
      "dtypes: float64(24), int64(1), object(2)\n",
      "memory usage: 7.6+ MB\n"
     ]
    }
   ],
   "source": [
    "train.info()"
   ]
  },
  {
   "cell_type": "code",
   "execution_count": 16,
   "metadata": {},
   "outputs": [
    {
     "data": {
      "text/plain": [
       "parcelid                        0\n",
       "censustractandblock             0\n",
       "taxamount                       0\n",
       "landtaxvaluedollarcnt           0\n",
       "assessmentyear                  0\n",
       "taxvaluedollarcnt               0\n",
       "structuretaxvaluedollarcnt      0\n",
       "yearbuilt                       0\n",
       "unitcnt                         0\n",
       "roomcnt                         0\n",
       "regionidzip                     0\n",
       "regionidcounty                  0\n",
       "logerror                        0\n",
       "regionidcity                    0\n",
       "lotsizesquarefeet               0\n",
       "longitude                       0\n",
       "latitude                        0\n",
       "fullbathcnt                     0\n",
       "fips                            0\n",
       "calculatedfinishedsquarefeet    0\n",
       "buildingqualitytypeid           0\n",
       "bedroomcnt                      0\n",
       "bathroomcnt                     0\n",
       "heatingorsystemtypeid           0\n",
       "propertylandusetypeid           0\n",
       "propertycountylandusecode       0\n",
       "tdate                           0\n",
       "dtype: int64"
      ]
     },
     "execution_count": 16,
     "metadata": {},
     "output_type": "execute_result"
    }
   ],
   "source": [
    "train.isnull().sum().sort_values()"
   ]
  },
  {
   "cell_type": "code",
   "execution_count": 17,
   "metadata": {},
   "outputs": [],
   "source": [
    "train[\"yearbuilt\"] = train[\"yearbuilt\"].astype('int')"
   ]
  },
  {
   "cell_type": "code",
   "execution_count": 18,
   "metadata": {},
   "outputs": [
    {
     "data": {
      "text/plain": [
       "<AxesSubplot:ylabel='Frequency'>"
      ]
     },
     "execution_count": 18,
     "metadata": {},
     "output_type": "execute_result"
    },
    {
     "data": {
      "image/png": "[encoded data removed]",
      "text/plain": [
       "<Figure size 432x288 with 1 Axes>"
      ]
     },
     "metadata": {
      "needs_background": "light"
     },
     "output_type": "display_data"
    }
   ],
   "source": [
    "train.yearbuilt.plot.hist()"
   ]
  },
  {
   "cell_type": "code",
   "execution_count": 21,
   "metadata": {},
   "outputs": [],
   "source": [
    "plot_list_explore = [\"bedroomcnt\", \"bathroomcnt\", \"fullbathcnt\", \"taxamount\", \"taxvaluedollarcnt\", \"yearbuilt\", \"unitcnt\", \"fips\", \"calculatedfinishedsquarefeet\", \"longitude\", \"latitude\"]"
   ]
  },
  {
   "cell_type": "code",
   "execution_count": 22,
   "metadata": {
    "scrolled": false
   },
   "outputs": [
    {
     "data": {
      "image/png": "[encoded data removed]",
      "text/plain": [
       "<Figure size 288x144 with 1 Axes>"
      ]
     },
     "metadata": {
      "needs_background": "light"
     },
     "output_type": "display_data"
    },
    {
     "data": {
      "image/png": "[encoded data removed]",
      "text/plain": [
       "<Figure size 288x144 with 1 Axes>"
      ]
     },
     "metadata": {
      "needs_background": "light"
     },
     "output_type": "display_data"
    },
    {
     "data": {
      "image/png": "[encoded data removed]",
      "text/plain": [
       "<Figure size 288x144 with 1 Axes>"
      ]
     },
     "metadata": {
      "needs_background": "light"
     },
     "output_type": "display_data"
    },
    {
     "data": {
      "image/png": "[encoded data removed]",
      "text/plain": [
       "<Figure size 288x144 with 1 Axes>"
      ]
     },
     "metadata": {
      "needs_background": "light"
     },
     "output_type": "display_data"
    },
    {
     "data": {
      "image/png": "[encoded data removed]",
      "text/plain": [
       "<Figure size 288x144 with 1 Axes>"
      ]
     },
     "metadata": {
      "needs_background": "light"
     },
     "output_type": "display_data"
    },
    {
     "data": {
      "image/png": "[encoded data removed]",
      "text/plain": [
       "<Figure size 288x144 with 1 Axes>"
      ]
     },
     "metadata": {
      "needs_background": "light"
     },
     "output_type": "display_data"
    },
    {
     "data": {
      "image/png": "[encoded data removed]",
      "text/plain": [
       "<Figure size 288x144 with 1 Axes>"
      ]
     },
     "metadata": {
      "needs_background": "light"
     },
     "output_type": "display_data"
    },
    {
     "data": {
      "image/png": "[encoded data removed]",
      "text/plain": [
       "<Figure size 288x144 with 1 Axes>"
      ]
     },
     "metadata": {
      "needs_background": "light"
     },
     "output_type": "display_data"
    },
    {
     "data": {
      "image/png": "[encoded data removed]",
      "text/plain": [
       "<Figure size 288x144 with 1 Axes>"
      ]
     },
     "metadata": {
      "needs_background": "light"
     },
     "output_type": "display_data"
    },
    {
     "data": {
      "image/png": "[encoded data removed]",
      "text/plain": [
       "<Figure size 288x144 with 1 Axes>"
      ]
     },
     "metadata": {
      "needs_background": "light"
     },
     "output_type": "display_data"
    },
    {
     "data": {
      "image/png": "[encoded data removed]",
      "text/plain": [
       "<Figure size 288x144 with 1 Axes>"
      ]
     },
     "metadata": {
      "needs_background": "light"
     },
     "output_type": "display_data"
    }
   ],
   "source": [
    "for col in plot_list_explore:\n",
    "    plt.figure(figsize=(4,2))\n",
    "    plt.hist(train[col])\n",
    "    plt.title(col)\n",
    "    plt.show()"
   ]
  },
  {
   "cell_type": "code",
   "execution_count": 23,
   "metadata": {
    "scrolled": false
   },
   "outputs": [
    {
     "data": {
      "image/png": "[encoded data removed]",
      "text/plain": [
       "<Figure size 288x144 with 1 Axes>"
      ]
     },
     "metadata": {
      "needs_background": "light"
     },
     "output_type": "display_data"
    },
    {
     "data": {
      "image/png": "[encoded data removed]",
      "text/plain": [
       "<Figure size 288x144 with 1 Axes>"
      ]
     },
     "metadata": {
      "needs_background": "light"
     },
     "output_type": "display_data"
    },
    {
     "data": {
      "image/png": "[encoded data removed]",
      "text/plain": [
       "<Figure size 288x144 with 1 Axes>"
      ]
     },
     "metadata": {
      "needs_background": "light"
     },
     "output_type": "display_data"
    },
    {
     "data": {
      "image/png": "[encoded data removed]",
      "text/plain": [
       "<Figure size 288x144 with 1 Axes>"
      ]
     },
     "metadata": {
      "needs_background": "light"
     },
     "output_type": "display_data"
    },
    {
     "data": {
      "image/png": "[encoded data removed]",
      "text/plain": [
       "<Figure size 288x144 with 1 Axes>"
      ]
     },
     "metadata": {
      "needs_background": "light"
     },
     "output_type": "display_data"
    },
    {
     "data": {
      "image/png": "[encoded data removed]",
      "text/plain": [
       "<Figure size 288x144 with 1 Axes>"
      ]
     },
     "metadata": {
      "needs_background": "light"
     },
     "output_type": "display_data"
    },
    {
     "data": {
      "image/png": "[encoded data removed]",
      "text/plain": [
       "<Figure size 288x144 with 1 Axes>"
      ]
     },
     "metadata": {
      "needs_background": "light"
     },
     "output_type": "display_data"
    },
    {
     "data": {
      "image/png": "[encoded data removed]",
      "text/plain": [
       "<Figure size 288x144 with 1 Axes>"
      ]
     },
     "metadata": {
      "needs_background": "light"
     },
     "output_type": "display_data"
    },
    {
     "data": {
      "image/png": "[encoded data removed]",
      "text/plain": [
       "<Figure size 288x144 with 1 Axes>"
      ]
     },
     "metadata": {
      "needs_background": "light"
     },
     "output_type": "display_data"
    },
    {
     "data": {
      "image/png": "[encoded data removed]",
      "text/plain": [
       "<Figure size 288x144 with 1 Axes>"
      ]
     },
     "metadata": {
      "needs_background": "light"
     },
     "output_type": "display_data"
    },
    {
     "data": {
      "image/png": "[encoded data removed]",
      "text/plain": [
       "<Figure size 288x144 with 1 Axes>"
      ]
     },
     "metadata": {
      "needs_background": "light"
     },
     "output_type": "display_data"
    },
    {
     "data": {
      "image/png": "[encoded data removed]",
      "text/plain": [
       "<Figure size 288x144 with 1 Axes>"
      ]
     },
     "metadata": {
      "needs_background": "light"
     },
     "output_type": "display_data"
    },
    {
     "data": {
      "image/png": "[encoded data removed]",
      "text/plain": [
       "<Figure size 288x144 with 1 Axes>"
      ]
     },
     "metadata": {
      "needs_background": "light"
     },
     "output_type": "display_data"
    },
    {
     "data": {
      "image/png": "[encoded data removed]",
      "text/plain": [
       "<Figure size 288x144 with 1 Axes>"
      ]
     },
     "metadata": {
      "needs_background": "light"
     },
     "output_type": "display_data"
    },
    {
     "data": {
      "image/png": "[encoded data removed]",
      "text/plain": [
       "<Figure size 288x144 with 1 Axes>"
      ]
     },
     "metadata": {
      "needs_background": "light"
     },
     "output_type": "display_data"
    },
    {
     "data": {
      "image/png": "[encoded data removed]",
      "text/plain": [
       "<Figure size 288x144 with 1 Axes>"
      ]
     },
     "metadata": {
      "needs_background": "light"
     },
     "output_type": "display_data"
    },
    {
     "data": {
      "image/png": "[encoded data removed]",
      "text/plain": [
       "<Figure size 288x144 with 1 Axes>"
      ]
     },
     "metadata": {
      "needs_background": "light"
     },
     "output_type": "display_data"
    },
    {
     "data": {
      "image/png": "[encoded data removed]",
      "text/plain": [
       "<Figure size 288x144 with 1 Axes>"
      ]
     },
     "metadata": {
      "needs_background": "light"
     },
     "output_type": "display_data"
    },
    {
     "data": {
      "image/png": "[encoded data removed]",
      "text/plain": [
       "<Figure size 288x144 with 1 Axes>"
      ]
     },
     "metadata": {
      "needs_background": "light"
     },
     "output_type": "display_data"
    },
    {
     "data": {
      "image/png": "[encoded data removed]",
      "text/plain": [
       "<Figure size 288x144 with 1 Axes>"
      ]
     },
     "metadata": {
      "needs_background": "light"
     },
     "output_type": "display_data"
    },
    {
     "data": {
      "image/png": "[encoded data removed]",
      "text/plain": [
       "<Figure size 288x144 with 1 Axes>"
      ]
     },
     "metadata": {
      "needs_background": "light"
     },
     "output_type": "display_data"
    },
    {
     "data": {
      "image/png": "[encoded data removed]",
      "text/plain": [
       "<Figure size 288x144 with 1 Axes>"
      ]
     },
     "metadata": {
      "needs_background": "light"
     },
     "output_type": "display_data"
    },
    {
     "data": {
      "image/png": "[encoded data removed]",
      "text/plain": [
       "<Figure size 288x144 with 1 Axes>"
      ]
     },
     "metadata": {
      "needs_background": "light"
     },
     "output_type": "display_data"
    },
    {
     "data": {
      "image/png": "[encoded data removed]",
      "text/plain": [
       "<Figure size 288x144 with 1 Axes>"
      ]
     },
     "metadata": {
      "needs_background": "light"
     },
     "output_type": "display_data"
    },
    {
     "data": {
      "image/png": "[encoded data removed]",
      "text/plain": [
       "<Figure size 288x144 with 1 Axes>"
      ]
     },
     "metadata": {
      "needs_background": "light"
     },
     "output_type": "display_data"
    },
    {
     "data": {
      "image/png": "[encoded data removed]",
      "text/plain": [
       "<Figure size 288x144 with 1 Axes>"
      ]
     },
     "metadata": {
      "needs_background": "light"
     },
     "output_type": "display_data"
    },
    {
     "data": {
      "image/png": "[encoded data removed]",
      "text/plain": [
       "<Figure size 288x144 with 1 Axes>"
      ]
     },
     "metadata": {
      "needs_background": "light"
     },
     "output_type": "display_data"
    }
   ],
   "source": [
    "for col in train.columns:\n",
    "    plt.figure(figsize=(4,2))\n",
    "    plt.hist(train[col])\n",
    "    plt.title(col)\n",
    "    plt.show()"
   ]
  },
  {
   "cell_type": "code",
   "execution_count": 30,
   "metadata": {},
   "outputs": [],
   "source": [
    "# converting fips code to int. Will need to convert to string if I import into Tableau.\n",
    "train['fips'] = train['fips'].astype('int')"
   ]
  },
  {
   "cell_type": "code",
   "execution_count": 31,
   "metadata": {},
   "outputs": [
    {
     "data": {
      "text/plain": [
       "6037    22966\n",
       "6059     9599\n",
       "6111     2960\n",
       "Name: fips, dtype: int64"
      ]
     },
     "execution_count": 31,
     "metadata": {},
     "output_type": "execute_result"
    }
   ],
   "source": [
    "train.fips.value_counts(dropna = False)"
   ]
  },
  {
   "cell_type": "code",
   "execution_count": null,
   "metadata": {},
   "outputs": [],
   "source": [
    "train['county'] = if train.fips"
   ]
  },
  {
   "cell_type": "code",
   "execution_count": 26,
   "metadata": {},
   "outputs": [],
   "source": [
    "if train.fips == 6037"
   ]
  },
  {
   "cell_type": "code",
   "execution_count": 38,
   "metadata": {},
   "outputs": [],
   "source": [
    "# Setting the alpha:\n",
    "\n",
    "alpha = .05"
   ]
  },
  {
   "cell_type": "markdown",
   "metadata": {},
   "source": [
    "#### Fips codes key:\n",
    "6037 = Los Angeles County\n",
    "\n",
    "6059 = Orange County\n",
    "\n",
    "6111 = Ventura County\n"
   ]
  },
  {
   "cell_type": "code",
   "execution_count": null,
   "metadata": {},
   "outputs": [],
   "source": [
    "# train.loc[(train.fips == 6037), 'fips'] == 'Los Angeles County'\n",
    "# train.loc[(train.fips == 6059), 'fips'] == 'Orange County'\n",
    "# train.loc[(train.fips == 6111), 'fips'] == 'Ventura County'"
   ]
  },
  {
   "cell_type": "code",
   "execution_count": 59,
   "metadata": {},
   "outputs": [
    {
     "data": {
      "text/plain": [
       "(35525, 28)"
      ]
     },
     "execution_count": 59,
     "metadata": {},
     "output_type": "execute_result"
    }
   ],
   "source": [
    "conditions = [\n",
    "    (train['fips'] == 6037),\n",
    "    (train['fips'] == 6059),\n",
    "    (train['fips'] == 6111)\n",
    "    ]\n",
    "\n",
    "county_list = ['Los Angeles', 'Orange', 'Ventura']\n",
    "\n",
    "train['county'] = np.select(conditions, county_list)\n",
    "train.shape"
   ]
  },
  {
   "cell_type": "code",
   "execution_count": 60,
   "metadata": {},
   "outputs": [
    {
     "name": "stdout",
     "output_type": "stream",
     "text": [
      "<class 'pandas.core.frame.DataFrame'>\n",
      "Int64Index: 35525 entries, 2002 to 36494\n",
      "Data columns (total 28 columns):\n",
      " #   Column                        Non-Null Count  Dtype  \n",
      "---  ------                        --------------  -----  \n",
      " 0   parcelid                      35525 non-null  int64  \n",
      " 1   propertylandusetypeid         35525 non-null  float64\n",
      " 2   heatingorsystemtypeid         35525 non-null  float64\n",
      " 3   bathroomcnt                   35525 non-null  float64\n",
      " 4   bedroomcnt                    35525 non-null  float64\n",
      " 5   buildingqualitytypeid         35525 non-null  float64\n",
      " 6   calculatedfinishedsquarefeet  35525 non-null  float64\n",
      " 7   fips                          35525 non-null  int64  \n",
      " 8   fullbathcnt                   35525 non-null  float64\n",
      " 9   latitude                      35525 non-null  float64\n",
      " 10  longitude                     35525 non-null  float64\n",
      " 11  lotsizesquarefeet             35525 non-null  float64\n",
      " 12  propertycountylandusecode     35525 non-null  object \n",
      " 13  regionidcity                  35525 non-null  float64\n",
      " 14  regionidcounty                35525 non-null  float64\n",
      " 15  regionidzip                   35525 non-null  float64\n",
      " 16  roomcnt                       35525 non-null  float64\n",
      " 17  unitcnt                       35525 non-null  float64\n",
      " 18  yearbuilt                     35525 non-null  int64  \n",
      " 19  structuretaxvaluedollarcnt    35525 non-null  float64\n",
      " 20  taxvaluedollarcnt             35525 non-null  float64\n",
      " 21  assessmentyear                35525 non-null  float64\n",
      " 22  landtaxvaluedollarcnt         35525 non-null  float64\n",
      " 23  taxamount                     35525 non-null  float64\n",
      " 24  censustractandblock           35525 non-null  float64\n",
      " 25  logerror                      35525 non-null  float64\n",
      " 26  tdate                         35525 non-null  object \n",
      " 27  county                        35525 non-null  object \n",
      "dtypes: float64(22), int64(3), object(3)\n",
      "memory usage: 9.1+ MB\n"
     ]
    }
   ],
   "source": [
    "train.info()"
   ]
  },
  {
   "cell_type": "code",
   "execution_count": 61,
   "metadata": {},
   "outputs": [
    {
     "data": {
      "text/html": [
       "<div>\n",
       "<style scoped>\n",
       "    .dataframe tbody tr th:only-of-type {\n",
       "        vertical-align: middle;\n",
       "    }\n",
       "\n",
       "    .dataframe tbody tr th {\n",
       "        vertical-align: top;\n",
       "    }\n",
       "\n",
       "    .dataframe thead th {\n",
       "        text-align: right;\n",
       "    }\n",
       "</style>\n",
       "<table border=\"1\" class=\"dataframe\">\n",
       "  <thead>\n",
       "    <tr style=\"text-align: right;\">\n",
       "      <th></th>\n",
       "      <th>parcelid</th>\n",
       "      <th>propertylandusetypeid</th>\n",
       "      <th>heatingorsystemtypeid</th>\n",
       "      <th>bathroomcnt</th>\n",
       "      <th>bedroomcnt</th>\n",
       "      <th>buildingqualitytypeid</th>\n",
       "      <th>calculatedfinishedsquarefeet</th>\n",
       "      <th>fips</th>\n",
       "      <th>fullbathcnt</th>\n",
       "      <th>latitude</th>\n",
       "      <th>longitude</th>\n",
       "      <th>lotsizesquarefeet</th>\n",
       "      <th>propertycountylandusecode</th>\n",
       "      <th>regionidcity</th>\n",
       "      <th>regionidcounty</th>\n",
       "      <th>regionidzip</th>\n",
       "      <th>roomcnt</th>\n",
       "      <th>unitcnt</th>\n",
       "      <th>yearbuilt</th>\n",
       "      <th>structuretaxvaluedollarcnt</th>\n",
       "      <th>taxvaluedollarcnt</th>\n",
       "      <th>assessmentyear</th>\n",
       "      <th>landtaxvaluedollarcnt</th>\n",
       "      <th>taxamount</th>\n",
       "      <th>censustractandblock</th>\n",
       "      <th>logerror</th>\n",
       "      <th>tdate</th>\n",
       "      <th>county</th>\n",
       "    </tr>\n",
       "  </thead>\n",
       "  <tbody>\n",
       "    <tr>\n",
       "      <th>2002</th>\n",
       "      <td>10947165</td>\n",
       "      <td>261.0</td>\n",
       "      <td>2.0</td>\n",
       "      <td>3.0</td>\n",
       "      <td>3.0</td>\n",
       "      <td>8.0</td>\n",
       "      <td>2273.0</td>\n",
       "      <td>6037</td>\n",
       "      <td>3.0</td>\n",
       "      <td>34.189628</td>\n",
       "      <td>-118.293775</td>\n",
       "      <td>7467.0</td>\n",
       "      <td>0102</td>\n",
       "      <td>396054.0</td>\n",
       "      <td>3101.0</td>\n",
       "      <td>96433.0</td>\n",
       "      <td>0.0</td>\n",
       "      <td>1.0</td>\n",
       "      <td>1937</td>\n",
       "      <td>274117.0</td>\n",
       "      <td>913724.0</td>\n",
       "      <td>2016.0</td>\n",
       "      <td>639607.0</td>\n",
       "      <td>10048.09</td>\n",
       "      <td>6.037310e+13</td>\n",
       "      <td>0.030392</td>\n",
       "      <td>2017-01-10</td>\n",
       "      <td>Los Angeles</td>\n",
       "    </tr>\n",
       "    <tr>\n",
       "      <th>65683</th>\n",
       "      <td>10920910</td>\n",
       "      <td>261.0</td>\n",
       "      <td>7.0</td>\n",
       "      <td>2.0</td>\n",
       "      <td>3.0</td>\n",
       "      <td>6.0</td>\n",
       "      <td>1656.0</td>\n",
       "      <td>6037</td>\n",
       "      <td>2.0</td>\n",
       "      <td>34.225516</td>\n",
       "      <td>-118.358875</td>\n",
       "      <td>5982.0</td>\n",
       "      <td>0104</td>\n",
       "      <td>12447.0</td>\n",
       "      <td>3101.0</td>\n",
       "      <td>96375.0</td>\n",
       "      <td>0.0</td>\n",
       "      <td>1.0</td>\n",
       "      <td>1950</td>\n",
       "      <td>50745.0</td>\n",
       "      <td>70394.0</td>\n",
       "      <td>2016.0</td>\n",
       "      <td>19649.0</td>\n",
       "      <td>989.63</td>\n",
       "      <td>6.037102e+13</td>\n",
       "      <td>0.671934</td>\n",
       "      <td>2017-08-11</td>\n",
       "      <td>Los Angeles</td>\n",
       "    </tr>\n",
       "    <tr>\n",
       "      <th>40224</th>\n",
       "      <td>11015158</td>\n",
       "      <td>261.0</td>\n",
       "      <td>2.0</td>\n",
       "      <td>4.0</td>\n",
       "      <td>5.0</td>\n",
       "      <td>8.0</td>\n",
       "      <td>2260.0</td>\n",
       "      <td>6037</td>\n",
       "      <td>4.0</td>\n",
       "      <td>34.294273</td>\n",
       "      <td>-118.503196</td>\n",
       "      <td>13749.0</td>\n",
       "      <td>0100</td>\n",
       "      <td>12447.0</td>\n",
       "      <td>3101.0</td>\n",
       "      <td>96370.0</td>\n",
       "      <td>0.0</td>\n",
       "      <td>1.0</td>\n",
       "      <td>1961</td>\n",
       "      <td>66668.0</td>\n",
       "      <td>109724.0</td>\n",
       "      <td>2016.0</td>\n",
       "      <td>43056.0</td>\n",
       "      <td>1532.36</td>\n",
       "      <td>6.037107e+13</td>\n",
       "      <td>0.023461</td>\n",
       "      <td>2017-05-26</td>\n",
       "      <td>Los Angeles</td>\n",
       "    </tr>\n",
       "    <tr>\n",
       "      <th>24802</th>\n",
       "      <td>12486065</td>\n",
       "      <td>261.0</td>\n",
       "      <td>7.0</td>\n",
       "      <td>1.0</td>\n",
       "      <td>3.0</td>\n",
       "      <td>4.0</td>\n",
       "      <td>1092.0</td>\n",
       "      <td>6037</td>\n",
       "      <td>1.0</td>\n",
       "      <td>33.846405</td>\n",
       "      <td>-118.120067</td>\n",
       "      <td>5000.0</td>\n",
       "      <td>0100</td>\n",
       "      <td>12292.0</td>\n",
       "      <td>3101.0</td>\n",
       "      <td>96213.0</td>\n",
       "      <td>0.0</td>\n",
       "      <td>1.0</td>\n",
       "      <td>1950</td>\n",
       "      <td>100000.0</td>\n",
       "      <td>500000.0</td>\n",
       "      <td>2016.0</td>\n",
       "      <td>400000.0</td>\n",
       "      <td>6113.08</td>\n",
       "      <td>6.037571e+13</td>\n",
       "      <td>0.002005</td>\n",
       "      <td>2017-04-10</td>\n",
       "      <td>Los Angeles</td>\n",
       "    </tr>\n",
       "    <tr>\n",
       "      <th>48312</th>\n",
       "      <td>11071671</td>\n",
       "      <td>261.0</td>\n",
       "      <td>2.0</td>\n",
       "      <td>4.0</td>\n",
       "      <td>4.0</td>\n",
       "      <td>7.0</td>\n",
       "      <td>3473.0</td>\n",
       "      <td>6037</td>\n",
       "      <td>4.0</td>\n",
       "      <td>34.265126</td>\n",
       "      <td>-118.580861</td>\n",
       "      <td>10301.0</td>\n",
       "      <td>0100</td>\n",
       "      <td>12447.0</td>\n",
       "      <td>3101.0</td>\n",
       "      <td>96346.0</td>\n",
       "      <td>0.0</td>\n",
       "      <td>1.0</td>\n",
       "      <td>1983</td>\n",
       "      <td>327160.0</td>\n",
       "      <td>768661.0</td>\n",
       "      <td>2016.0</td>\n",
       "      <td>441501.0</td>\n",
       "      <td>9419.42</td>\n",
       "      <td>6.037113e+13</td>\n",
       "      <td>0.098492</td>\n",
       "      <td>2017-06-20</td>\n",
       "      <td>Los Angeles</td>\n",
       "    </tr>\n",
       "  </tbody>\n",
       "</table>\n",
       "</div>"
      ],
      "text/plain": [
       "       parcelid  propertylandusetypeid  heatingorsystemtypeid  bathroomcnt  \\\n",
       "2002   10947165                  261.0                    2.0          3.0   \n",
       "65683  10920910                  261.0                    7.0          2.0   \n",
       "40224  11015158                  261.0                    2.0          4.0   \n",
       "24802  12486065                  261.0                    7.0          1.0   \n",
       "48312  11071671                  261.0                    2.0          4.0   \n",
       "\n",
       "       bedroomcnt  buildingqualitytypeid  calculatedfinishedsquarefeet  fips  \\\n",
       "2002          3.0                    8.0                        2273.0  6037   \n",
       "65683         3.0                    6.0                        1656.0  6037   \n",
       "40224         5.0                    8.0                        2260.0  6037   \n",
       "24802         3.0                    4.0                        1092.0  6037   \n",
       "48312         4.0                    7.0                        3473.0  6037   \n",
       "\n",
       "       fullbathcnt   latitude   longitude  lotsizesquarefeet  \\\n",
       "2002           3.0  34.189628 -118.293775             7467.0   \n",
       "65683          2.0  34.225516 -118.358875             5982.0   \n",
       "40224          4.0  34.294273 -118.503196            13749.0   \n",
       "24802          1.0  33.846405 -118.120067             5000.0   \n",
       "48312          4.0  34.265126 -118.580861            10301.0   \n",
       "\n",
       "      propertycountylandusecode  regionidcity  regionidcounty  regionidzip  \\\n",
       "2002                       0102      396054.0          3101.0      96433.0   \n",
       "65683                      0104       12447.0          3101.0      96375.0   \n",
       "40224                      0100       12447.0          3101.0      96370.0   \n",
       "24802                      0100       12292.0          3101.0      96213.0   \n",
       "48312                      0100       12447.0          3101.0      96346.0   \n",
       "\n",
       "       roomcnt  unitcnt  yearbuilt  structuretaxvaluedollarcnt  \\\n",
       "2002       0.0      1.0       1937                    274117.0   \n",
       "65683      0.0      1.0       1950                     50745.0   \n",
       "40224      0.0      1.0       1961                     66668.0   \n",
       "24802      0.0      1.0       1950                    100000.0   \n",
       "48312      0.0      1.0       1983                    327160.0   \n",
       "\n",
       "       taxvaluedollarcnt  assessmentyear  landtaxvaluedollarcnt  taxamount  \\\n",
       "2002            913724.0          2016.0               639607.0   10048.09   \n",
       "65683            70394.0          2016.0                19649.0     989.63   \n",
       "40224           109724.0          2016.0                43056.0    1532.36   \n",
       "24802           500000.0          2016.0               400000.0    6113.08   \n",
       "48312           768661.0          2016.0               441501.0    9419.42   \n",
       "\n",
       "       censustractandblock  logerror       tdate       county  \n",
       "2002          6.037310e+13  0.030392  2017-01-10  Los Angeles  \n",
       "65683         6.037102e+13  0.671934  2017-08-11  Los Angeles  \n",
       "40224         6.037107e+13  0.023461  2017-05-26  Los Angeles  \n",
       "24802         6.037571e+13  0.002005  2017-04-10  Los Angeles  \n",
       "48312         6.037113e+13  0.098492  2017-06-20  Los Angeles  "
      ]
     },
     "execution_count": 61,
     "metadata": {},
     "output_type": "execute_result"
    }
   ],
   "source": [
    "train.head()"
   ]
  },
  {
   "cell_type": "markdown",
   "metadata": {},
   "source": [
    "### County breakdown"
   ]
  },
  {
   "cell_type": "code",
   "execution_count": 62,
   "metadata": {},
   "outputs": [
    {
     "name": "stdout",
     "output_type": "stream",
     "text": [
      "(22966, 28)\n",
      "(2960, 28)\n",
      "(9599, 28)\n"
     ]
    }
   ],
   "source": [
    "la_df = train[train.county == \"Los Angeles\"]\n",
    "ven_df = train[train.county == \"Ventura\"]\n",
    "o_df = train[train.county == \"Orange\"]\n",
    "\n",
    "print(la_df.shape)\n",
    "print(ven_df.shape)\n",
    "print(o_df.shape)"
   ]
  },
  {
   "cell_type": "code",
   "execution_count": 63,
   "metadata": {
    "scrolled": false
   },
   "outputs": [
    {
     "data": {
      "image/png": "[encoded data removed]",
      "text/plain": [
       "<Figure size 288x144 with 1 Axes>"
      ]
     },
     "metadata": {
      "needs_background": "light"
     },
     "output_type": "display_data"
    },
    {
     "data": {
      "image/png": "[encoded data removed]",
      "text/plain": [
       "<Figure size 288x144 with 1 Axes>"
      ]
     },
     "metadata": {
      "needs_background": "light"
     },
     "output_type": "display_data"
    },
    {
     "data": {
      "image/png": "[encoded data removed]",
      "text/plain": [
       "<Figure size 288x144 with 1 Axes>"
      ]
     },
     "metadata": {
      "needs_background": "light"
     },
     "output_type": "display_data"
    },
    {
     "data": {
      "image/png": "[encoded data removed]",
      "text/plain": [
       "<Figure size 288x144 with 1 Axes>"
      ]
     },
     "metadata": {
      "needs_background": "light"
     },
     "output_type": "display_data"
    },
    {
     "data": {
      "image/png": "[encoded data removed]",
      "text/plain": [
       "<Figure size 288x144 with 1 Axes>"
      ]
     },
     "metadata": {
      "needs_background": "light"
     },
     "output_type": "display_data"
    },
    {
     "data": {
      "image/png": "[encoded data removed]",
      "text/plain": [
       "<Figure size 288x144 with 1 Axes>"
      ]
     },
     "metadata": {
      "needs_background": "light"
     },
     "output_type": "display_data"
    },
    {
     "data": {
      "image/png": "[encoded data removed]",
      "text/plain": [
       "<Figure size 288x144 with 1 Axes>"
      ]
     },
     "metadata": {
      "needs_background": "light"
     },
     "output_type": "display_data"
    },
    {
     "data": {
      "image/png": "[encoded data removed]",
      "text/plain": [
       "<Figure size 288x144 with 1 Axes>"
      ]
     },
     "metadata": {
      "needs_background": "light"
     },
     "output_type": "display_data"
    },
    {
     "data": {
      "image/png": "[encoded data removed]",
      "text/plain": [
       "<Figure size 288x144 with 1 Axes>"
      ]
     },
     "metadata": {
      "needs_background": "light"
     },
     "output_type": "display_data"
    },
    {
     "data": {
      "image/png": "[encoded data removed]",
      "text/plain": [
       "<Figure size 288x144 with 1 Axes>"
      ]
     },
     "metadata": {
      "needs_background": "light"
     },
     "output_type": "display_data"
    },
    {
     "data": {
      "image/png": "[encoded data removed]",
      "text/plain": [
       "<Figure size 288x144 with 1 Axes>"
      ]
     },
     "metadata": {
      "needs_background": "light"
     },
     "output_type": "display_data"
    },
    {
     "data": {
      "image/png": "[encoded data removed]",
      "text/plain": [
       "<Figure size 288x144 with 1 Axes>"
      ]
     },
     "metadata": {
      "needs_background": "light"
     },
     "output_type": "display_data"
    },
    {
     "data": {
      "image/png": "[encoded data removed]",
      "text/plain": [
       "<Figure size 288x144 with 1 Axes>"
      ]
     },
     "metadata": {
      "needs_background": "light"
     },
     "output_type": "display_data"
    },
    {
     "data": {
      "image/png": "[encoded data removed]",
      "text/plain": [
       "<Figure size 288x144 with 1 Axes>"
      ]
     },
     "metadata": {
      "needs_background": "light"
     },
     "output_type": "display_data"
    },
    {
     "data": {
      "image/png": "[encoded data removed]",
      "text/plain": [
       "<Figure size 288x144 with 1 Axes>"
      ]
     },
     "metadata": {
      "needs_background": "light"
     },
     "output_type": "display_data"
    },
    {
     "data": {
      "image/png": "[encoded data removed]",
      "text/plain": [
       "<Figure size 288x144 with 1 Axes>"
      ]
     },
     "metadata": {
      "needs_background": "light"
     },
     "output_type": "display_data"
    },
    {
     "data": {
      "image/png": "[encoded data removed]",
      "text/plain": [
       "<Figure size 288x144 with 1 Axes>"
      ]
     },
     "metadata": {
      "needs_background": "light"
     },
     "output_type": "display_data"
    },
    {
     "data": {
      "image/png": "[encoded data removed]",
      "text/plain": [
       "<Figure size 288x144 with 1 Axes>"
      ]
     },
     "metadata": {
      "needs_background": "light"
     },
     "output_type": "display_data"
    },
    {
     "data": {
      "image/png": "[encoded data removed]",
      "text/plain": [
       "<Figure size 288x144 with 1 Axes>"
      ]
     },
     "metadata": {
      "needs_background": "light"
     },
     "output_type": "display_data"
    },
    {
     "data": {
      "image/png": "[encoded data removed]",
      "text/plain": [
       "<Figure size 288x144 with 1 Axes>"
      ]
     },
     "metadata": {
      "needs_background": "light"
     },
     "output_type": "display_data"
    },
    {
     "data": {
      "image/png": "[encoded data removed]",
      "text/plain": [
       "<Figure size 288x144 with 1 Axes>"
      ]
     },
     "metadata": {
      "needs_background": "light"
     },
     "output_type": "display_data"
    },
    {
     "data": {
      "image/png": "[encoded data removed]",
      "text/plain": [
       "<Figure size 288x144 with 1 Axes>"
      ]
     },
     "metadata": {
      "needs_background": "light"
     },
     "output_type": "display_data"
    },
    {
     "data": {
      "image/png": "[encoded data removed]",
      "text/plain": [
       "<Figure size 288x144 with 1 Axes>"
      ]
     },
     "metadata": {
      "needs_background": "light"
     },
     "output_type": "display_data"
    },
    {
     "data": {
      "image/png": "[encoded data removed]",
      "text/plain": [
       "<Figure size 288x144 with 1 Axes>"
      ]
     },
     "metadata": {
      "needs_background": "light"
     },
     "output_type": "display_data"
    },
    {
     "data": {
      "image/png": "[encoded data removed]",
      "text/plain": [
       "<Figure size 288x144 with 1 Axes>"
      ]
     },
     "metadata": {
      "needs_background": "light"
     },
     "output_type": "display_data"
    },
    {
     "data": {
      "image/png": "[encoded data removed]",
      "text/plain": [
       "<Figure size 288x144 with 1 Axes>"
      ]
     },
     "metadata": {
      "needs_background": "light"
     },
     "output_type": "display_data"
    },
    {
     "data": {
      "image/png": "[encoded data removed]",
      "text/plain": [
       "<Figure size 288x144 with 1 Axes>"
      ]
     },
     "metadata": {
      "needs_background": "light"
     },
     "output_type": "display_data"
    },
    {
     "data": {
      "image/png": "[encoded data removed]",
      "text/plain": [
       "<Figure size 288x144 with 1 Axes>"
      ]
     },
     "metadata": {
      "needs_background": "light"
     },
     "output_type": "display_data"
    }
   ],
   "source": [
    "for col in la_df.columns:\n",
    "    plt.figure(figsize = (4,2))\n",
    "    plt.hist(la_df[col])\n",
    "    plt.title(col)\n",
    "    plt.show()"
   ]
  },
  {
   "cell_type": "code",
   "execution_count": null,
   "metadata": {},
   "outputs": [],
   "source": []
  },
  {
   "cell_type": "markdown",
   "metadata": {},
   "source": [
    "#### Question 1: \n",
    "Is logerror significantly different for properties in LA County vs Orange County vs Ventura County?"
   ]
  },
  {
   "cell_type": "markdown",
   "metadata": {},
   "source": [
    "### Hypothesis:\n",
    "\n",
    "$ H_0 $: `logerror` **is not** different between the three counties\n",
    "\n",
    "$ H_a $: `logerror` **is** different between the three counties"
   ]
  },
  {
   "cell_type": "code",
   "execution_count": 55,
   "metadata": {},
   "outputs": [
    {
     "data": {
      "text/plain": [
       "<AxesSubplot:xlabel='calculatedfinishedsquarefeet', ylabel='logerror'>"
      ]
     },
     "execution_count": 55,
     "metadata": {},
     "output_type": "execute_result"
    },
    {
     "data": {
      "image/png": "[encoded data removed]",
      "text/plain": [
       "<Figure size 432x288 with 1 Axes>"
      ]
     },
     "metadata": {
      "needs_background": "light"
     },
     "output_type": "display_data"
    }
   ],
   "source": [
    "# For a simple visual answer, I'm going to use a scatterplot, with logerror being the value.\n",
    "\n",
    "sns.scatterplot(x = 'calculatedfinishedsquarefeet', y = 'logerror', data = train, hue = 'county')"
   ]
  },
  {
   "cell_type": "code",
   "execution_count": 57,
   "metadata": {},
   "outputs": [
    {
     "data": {
      "text/plain": [
       "<AxesSubplot:xlabel='calculatedfinishedsquarefeet', ylabel='logerror'>"
      ]
     },
     "execution_count": 57,
     "metadata": {},
     "output_type": "execute_result"
    },
    {
     "data": {
      "image/png": "[encoded data removed]",
      "text/plain": [
       "<Figure size 432x288 with 1 Axes>"
      ]
     },
     "metadata": {
      "needs_background": "light"
     },
     "output_type": "display_data"
    }
   ],
   "source": [
    "sns.boxplot(x = 'calculatedfinishedsquarefeet', y = 'logerror', data = train, hue = 'county')"
   ]
  },
  {
   "cell_type": "code",
   "execution_count": 58,
   "metadata": {},
   "outputs": [
    {
     "data": {
      "text/plain": [
       "<AxesSubplot:xlabel='county', ylabel='logerror'>"
      ]
     },
     "execution_count": 58,
     "metadata": {},
     "output_type": "execute_result"
    },
    {
     "data": {
      "image/png": "[encoded data removed]",
      "text/plain": [
       "<Figure size 432x288 with 1 Axes>"
      ]
     },
     "metadata": {
      "needs_background": "light"
     },
     "output_type": "display_data"
    }
   ],
   "source": [
    "sns.barplot(data = train, x = 'county', y = 'logerror')"
   ]
  },
  {
   "cell_type": "code",
   "execution_count": 64,
   "metadata": {},
   "outputs": [
    {
     "data": {
      "text/plain": [
       "<seaborn.axisgrid.FacetGrid at 0x7fe575267d90>"
      ]
     },
     "execution_count": 64,
     "metadata": {},
     "output_type": "execute_result"
    },
    {
     "data": {
      "image/png": "[encoded data removed]",
      "text/plain": [
       "<Figure size 360x360 with 1 Axes>"
      ]
     },
     "metadata": {
      "needs_background": "light"
     },
     "output_type": "display_data"
    }
   ],
   "source": [
    "sns.catplot(x = 'county', y = 'logerror', data = train)"
   ]
  },
  {
   "cell_type": "code",
   "execution_count": 65,
   "metadata": {},
   "outputs": [
    {
     "data": {
      "text/plain": [
       "<AxesSubplot:xlabel='county', ylabel='logerror'>"
      ]
     },
     "execution_count": 65,
     "metadata": {},
     "output_type": "execute_result"
    },
    {
     "data": {
      "image/png": "[encoded data removed]",
      "text/plain": [
       "<Figure size 432x288 with 1 Axes>"
      ]
     },
     "metadata": {
      "needs_background": "light"
     },
     "output_type": "display_data"
    }
   ],
   "source": [
    "sns.boxplot(x = 'county', y = 'logerror', data = train)"
   ]
  },
  {
   "cell_type": "markdown",
   "metadata": {},
   "source": [
    "#### Attempting ANOVA"
   ]
  },
  {
   "cell_type": "code",
   "execution_count": 67,
   "metadata": {},
   "outputs": [
    {
     "data": {
      "text/plain": [
       "6.547257431960985e-06"
      ]
     },
     "execution_count": 67,
     "metadata": {},
     "output_type": "execute_result"
    }
   ],
   "source": [
    "from scipy.stats import f_oneway\n",
    "\n",
    "f, p = f_oneway(la_df.logerror, ven_df.logerror, o_df.logerror)\n",
    "p"
   ]
  },
  {
   "cell_type": "code",
   "execution_count": 70,
   "metadata": {},
   "outputs": [
    {
     "data": {
      "text/plain": [
       "LeveneResult(statistic=29.192020984937223, pvalue=6.612577645107485e-08)"
      ]
     },
     "execution_count": 70,
     "metadata": {},
     "output_type": "execute_result"
    }
   ],
   "source": [
    "# Levene test, which talks about variance (I think)\n",
    "\n",
    "stats.levene(la_df.logerror, ven_df.logerror)"
   ]
  },
  {
   "cell_type": "code",
   "execution_count": null,
   "metadata": {},
   "outputs": [],
   "source": []
  },
  {
   "cell_type": "code",
   "execution_count": 43,
   "metadata": {},
   "outputs": [
    {
     "data": {
      "text/html": [
       "<div>\n",
       "<style scoped>\n",
       "    .dataframe tbody tr th:only-of-type {\n",
       "        vertical-align: middle;\n",
       "    }\n",
       "\n",
       "    .dataframe tbody tr th {\n",
       "        vertical-align: top;\n",
       "    }\n",
       "\n",
       "    .dataframe thead th {\n",
       "        text-align: right;\n",
       "    }\n",
       "</style>\n",
       "<table border=\"1\" class=\"dataframe\">\n",
       "  <thead>\n",
       "    <tr style=\"text-align: right;\">\n",
       "      <th>county</th>\n",
       "      <th>Los Angeles County</th>\n",
       "      <th>Orange County</th>\n",
       "      <th>Ventura County</th>\n",
       "    </tr>\n",
       "    <tr>\n",
       "      <th>logerror</th>\n",
       "      <th></th>\n",
       "      <th></th>\n",
       "      <th></th>\n",
       "    </tr>\n",
       "  </thead>\n",
       "  <tbody>\n",
       "    <tr>\n",
       "      <th>-4.655420</th>\n",
       "      <td>1</td>\n",
       "      <td>0</td>\n",
       "      <td>0</td>\n",
       "    </tr>\n",
       "    <tr>\n",
       "      <th>-4.453964</th>\n",
       "      <td>1</td>\n",
       "      <td>0</td>\n",
       "      <td>0</td>\n",
       "    </tr>\n",
       "    <tr>\n",
       "      <th>-2.387800</th>\n",
       "      <td>0</td>\n",
       "      <td>1</td>\n",
       "      <td>0</td>\n",
       "    </tr>\n",
       "    <tr>\n",
       "      <th>-2.330162</th>\n",
       "      <td>0</td>\n",
       "      <td>1</td>\n",
       "      <td>0</td>\n",
       "    </tr>\n",
       "    <tr>\n",
       "      <th>-2.327432</th>\n",
       "      <td>0</td>\n",
       "      <td>1</td>\n",
       "      <td>0</td>\n",
       "    </tr>\n",
       "  </tbody>\n",
       "</table>\n",
       "</div>"
      ],
      "text/plain": [
       "county     Los Angeles County  Orange County  Ventura County\n",
       "logerror                                                    \n",
       "-4.655420                   1              0               0\n",
       "-4.453964                   1              0               0\n",
       "-2.387800                   0              1               0\n",
       "-2.330162                   0              1               0\n",
       "-2.327432                   0              1               0"
      ]
     },
     "execution_count": 43,
     "metadata": {},
     "output_type": "execute_result"
    }
   ],
   "source": [
    "observed = pd.crosstab(train.logerror, train.county)\n",
    "observed.head()"
   ]
  },
  {
   "cell_type": "code",
   "execution_count": 44,
   "metadata": {},
   "outputs": [
    {
     "name": "stdout",
     "output_type": "stream",
     "text": [
      "Observed\n",
      "\n",
      "[[1 0 0]\n",
      " [1 0 0]\n",
      " [0 1 0]\n",
      " ...\n",
      " [1 0 0]\n",
      " [1 0 0]\n",
      " [1 0 0]]\n",
      "---\n",
      "Expected\n",
      "\n",
      "[[0.64647431 0.27020408 0.0833216 ]\n",
      " [0.64647431 0.27020408 0.0833216 ]\n",
      " [0.64647431 0.27020408 0.0833216 ]\n",
      " ...\n",
      " [0.64647431 0.27020408 0.0833216 ]\n",
      " [0.64647431 0.27020408 0.0833216 ]\n",
      " [0.64647431 0.27020408 0.0833216 ]]\n",
      "---\n",
      "\n",
      "chi^2 = 71050.0000\n",
      "p     = 0.2632\n"
     ]
    }
   ],
   "source": [
    "chi2, p, degf, expected = stats.chi2_contingency(observed)\n",
    "\n",
    "print('Observed\\n')\n",
    "print(observed.values)\n",
    "print('---\\nExpected\\n')\n",
    "print(expected)\n",
    "print('---\\n')\n",
    "print(f'chi^2 = {chi2:.4f}')\n",
    "print(f'p     = {p:.4f}')"
   ]
  },
  {
   "cell_type": "markdown",
   "metadata": {},
   "source": [
    "#### Takeaway:\n",
    "\n",
    "The p-value is far greater than our null value so we would fail to reject the null hypothesis"
   ]
  },
  {
   "cell_type": "markdown",
   "metadata": {},
   "source": [
    "### Hypothesis:\n",
    "\n",
    "$ H_0 $: There **is no** difference between `calculatedfinishedsquarefeet` on average and `yearbuilt` > 2012\n",
    "\n",
    "$ H_a $: There **is** a difference between `calculatedfinishedsquarefeet` on average and `yearbuilt` > 2012"
   ]
  },
  {
   "cell_type": "code",
   "execution_count": 50,
   "metadata": {},
   "outputs": [
    {
     "data": {
      "text/plain": [
       "((359, 28), (35166, 28))"
      ]
     },
     "execution_count": 50,
     "metadata": {},
     "output_type": "execute_result"
    }
   ],
   "source": [
    "# Going to use a two sample t-test:\n",
    "\n",
    "x1 = train[train.yearbuilt >= 2012]\n",
    "x2 = train[train.yearbuilt < 2012]\n",
    "\n",
    "x1.shape, x2.shape"
   ]
  },
  {
   "cell_type": "code",
   "execution_count": null,
   "metadata": {},
   "outputs": [],
   "source": []
  },
  {
   "cell_type": "code",
   "execution_count": null,
   "metadata": {},
   "outputs": [],
   "source": []
  }
 ],
 "metadata": {
  "kernelspec": {
   "display_name": "Python 3",
   "language": "python",
   "name": "python3"
  },
  "language_info": {
   "codemirror_mode": {
    "name": "ipython",
    "version": 3
   },
   "file_extension": ".py",
   "mimetype": "text/x-python",
   "name": "python",
   "nbconvert_exporter": "python",
   "pygments_lexer": "ipython3",
   "version": "3.7.9"
  }
 },
 "nbformat": 4,
 "nbformat_minor": 4
}
