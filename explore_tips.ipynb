{
 "cells": [
  {
   "cell_type": "code",
   "execution_count": 1,
   "metadata": {},
   "outputs": [],
   "source": [
    "#Libraries\n",
    "\n",
    "# ignore warnings\n",
    "import warnings\n",
    "warnings.filterwarnings(\"ignore\")\n",
    "\n",
    "# Wrangling\n",
    "import pandas as pd\n",
    "import numpy as np\n",
    "\n",
    "# preparing\n",
    "from sklearn.model_selection import train_test_split\n",
    "from sklearn.metrics import mean_squared_error, explained_variance_score\n",
    "\n",
    "# modeling and evaluating\n",
    "from sklearn.linear_model import LinearRegression, LassoLars\n",
    "from sklearn.linear_model import TweedieRegressor\n",
    "from sklearn.feature_selection import RFE\n",
    "from sklearn.preprocessing import PolynomialFeatures\n",
    "from sklearn.preprocessing import MinMaxScaler, RobustScaler, StandardScaler\n",
    "from sklearn.preprocessing import PolynomialFeatures\n",
    "\n",
    "# Exploring\n",
    "import scipy.stats as stats\n",
    "import math\n",
    "\n",
    "# Visualizing\n",
    "import matplotlib.pyplot as plt\n",
    "from matplotlib import cm\n",
    "import seaborn as sns\n",
    "from sklearn.model_selection import learning_curve\n",
    "%matplotlib inline\n",
    "\n",
    "# default pandas decimal number display format\n",
    "# pd.options.display.float_format = '{:20,.2f}'.format\n",
    "\n",
    "# import acquire\n",
    "# import summarize\n",
    "# import prepare\n",
    "\n",
    "pd.options.display.float_format = '{:20,.2f}'.format"
   ]
  },
  {
   "cell_type": "code",
   "execution_count": 2,
   "metadata": {},
   "outputs": [
    {
     "name": "stdout",
     "output_type": "stream",
     "text": [
      "credentials loaded successfully\n"
     ]
    }
   ],
   "source": [
    "import os\n",
    "import env"
   ]
  },
  {
   "cell_type": "code",
   "execution_count": 3,
   "metadata": {},
   "outputs": [
    {
     "name": "stdout",
     "output_type": "stream",
     "text": [
      "End of file.\n",
      "Loaded zillow wrangle functions successfully.\n"
     ]
    }
   ],
   "source": [
    "import acquire\n",
    "import wrangle_zillow"
   ]
  },
  {
   "cell_type": "markdown",
   "metadata": {},
   "source": [
    "## Acquire"
   ]
  },
  {
   "cell_type": "code",
   "execution_count": null,
   "metadata": {},
   "outputs": [],
   "source": [
    "tips = sns.load_dataset('tips')\n",
    "tips.shape"
   ]
  },
  {
   "cell_type": "code",
   "execution_count": null,
   "metadata": {},
   "outputs": [],
   "source": [
    "tips.head()"
   ]
  },
  {
   "cell_type": "code",
   "execution_count": null,
   "metadata": {},
   "outputs": [],
   "source": [
    "tips.info()"
   ]
  },
  {
   "cell_type": "code",
   "execution_count": null,
   "metadata": {},
   "outputs": [],
   "source": [
    "tips.describe()"
   ]
  },
  {
   "cell_type": "markdown",
   "metadata": {},
   "source": [
    "## Prepare"
   ]
  },
  {
   "cell_type": "code",
   "execution_count": null,
   "metadata": {},
   "outputs": [],
   "source": [
    "# Fill mall prep/explore later - Maggie suggested I focus on the Zillow data."
   ]
  },
  {
   "cell_type": "markdown",
   "metadata": {},
   "source": [
    "# Zillow Database"
   ]
  },
  {
   "cell_type": "markdown",
   "metadata": {},
   "source": [
    "## Acquire and Prep"
   ]
  },
  {
   "cell_type": "code",
   "execution_count": 4,
   "metadata": {},
   "outputs": [
    {
     "data": {
      "text/plain": [
       "(77381, 70)"
      ]
     },
     "execution_count": 4,
     "metadata": {},
     "output_type": "execute_result"
    }
   ],
   "source": [
    "df = acquire.get_zillow_data()\n",
    "df.shape"
   ]
  },
  {
   "cell_type": "code",
   "execution_count": 5,
   "metadata": {},
   "outputs": [],
   "source": [
    "id_list = [261.0, 260.0, 262.0, 263.0, 264.0]"
   ]
  },
  {
   "cell_type": "code",
   "execution_count": 6,
   "metadata": {},
   "outputs": [
    {
     "data": {
      "text/plain": [
       "(52437, 70)"
      ]
     },
     "execution_count": 6,
     "metadata": {},
     "output_type": "execute_result"
    }
   ],
   "source": [
    "df = wrangle_zillow.property_type_focus(df, id_list)\n",
    "df.shape"
   ]
  },
  {
   "cell_type": "code",
   "execution_count": 7,
   "metadata": {},
   "outputs": [
    {
     "data": {
      "text/plain": [
       "(52437, 32)"
      ]
     },
     "execution_count": 7,
     "metadata": {},
     "output_type": "execute_result"
    }
   ],
   "source": [
    "df = wrangle_zillow.handle_missing_values(df)\n",
    "df.shape"
   ]
  },
  {
   "cell_type": "code",
   "execution_count": 8,
   "metadata": {},
   "outputs": [
    {
     "name": "stdout",
     "output_type": "stream",
     "text": [
      "Shape of train df: (35656, 32)\n",
      "Shape of validate df: (8915, 32)\n",
      "Shape of test df: (7866, 32)\n"
     ]
    },
    {
     "data": {
      "text/html": [
       "<div>\n",
       "<style scoped>\n",
       "    .dataframe tbody tr th:only-of-type {\n",
       "        vertical-align: middle;\n",
       "    }\n",
       "\n",
       "    .dataframe tbody tr th {\n",
       "        vertical-align: top;\n",
       "    }\n",
       "\n",
       "    .dataframe thead th {\n",
       "        text-align: right;\n",
       "    }\n",
       "</style>\n",
       "<table border=\"1\" class=\"dataframe\">\n",
       "  <thead>\n",
       "    <tr style=\"text-align: right;\">\n",
       "      <th></th>\n",
       "      <th>parcelid</th>\n",
       "      <th>propertylandusetypeid</th>\n",
       "      <th>heatingorsystemtypeid</th>\n",
       "      <th>bathroomcnt</th>\n",
       "      <th>bedroomcnt</th>\n",
       "      <th>buildingqualitytypeid</th>\n",
       "      <th>calculatedfinishedsquarefeet</th>\n",
       "      <th>finishedsquarefeet12</th>\n",
       "      <th>fips</th>\n",
       "      <th>fullbathcnt</th>\n",
       "      <th>...</th>\n",
       "      <th>taxvaluedollarcnt</th>\n",
       "      <th>assessmentyear</th>\n",
       "      <th>landtaxvaluedollarcnt</th>\n",
       "      <th>taxamount</th>\n",
       "      <th>censustractandblock</th>\n",
       "      <th>logerror</th>\n",
       "      <th>pid</th>\n",
       "      <th>tdate</th>\n",
       "      <th>heatingorsystemdesc</th>\n",
       "      <th>propertylandusedesc</th>\n",
       "    </tr>\n",
       "  </thead>\n",
       "  <tbody>\n",
       "    <tr>\n",
       "      <th>9322</th>\n",
       "      <td>11769252</td>\n",
       "      <td>261.00</td>\n",
       "      <td>2.00</td>\n",
       "      <td>2.00</td>\n",
       "      <td>3.00</td>\n",
       "      <td>6.00</td>\n",
       "      <td>1,168.00</td>\n",
       "      <td>1,168.00</td>\n",
       "      <td>6,037.00</td>\n",
       "      <td>2.00</td>\n",
       "      <td>...</td>\n",
       "      <td>179,231.00</td>\n",
       "      <td>2,016.00</td>\n",
       "      <td>138,765.00</td>\n",
       "      <td>2,244.26</td>\n",
       "      <td>60,372,282,203,004.00</td>\n",
       "      <td>0.02</td>\n",
       "      <td>11769252</td>\n",
       "      <td>2017-02-13</td>\n",
       "      <td>Central</td>\n",
       "      <td>Single Family Residential</td>\n",
       "    </tr>\n",
       "    <tr>\n",
       "      <th>37985</th>\n",
       "      <td>13885646</td>\n",
       "      <td>261.00</td>\n",
       "      <td>nan</td>\n",
       "      <td>2.00</td>\n",
       "      <td>3.00</td>\n",
       "      <td>nan</td>\n",
       "      <td>1,286.00</td>\n",
       "      <td>1,286.00</td>\n",
       "      <td>6,059.00</td>\n",
       "      <td>2.00</td>\n",
       "      <td>...</td>\n",
       "      <td>135,979.00</td>\n",
       "      <td>2,016.00</td>\n",
       "      <td>43,007.00</td>\n",
       "      <td>1,678.70</td>\n",
       "      <td>60,590,760,002,004.00</td>\n",
       "      <td>-0.04</td>\n",
       "      <td>13885646</td>\n",
       "      <td>2017-05-19</td>\n",
       "      <td>NaN</td>\n",
       "      <td>Single Family Residential</td>\n",
       "    </tr>\n",
       "    <tr>\n",
       "      <th>4751</th>\n",
       "      <td>14190000</td>\n",
       "      <td>261.00</td>\n",
       "      <td>nan</td>\n",
       "      <td>2.50</td>\n",
       "      <td>4.00</td>\n",
       "      <td>nan</td>\n",
       "      <td>2,114.00</td>\n",
       "      <td>2,114.00</td>\n",
       "      <td>6,059.00</td>\n",
       "      <td>2.00</td>\n",
       "      <td>...</td>\n",
       "      <td>114,314.00</td>\n",
       "      <td>2,016.00</td>\n",
       "      <td>44,303.00</td>\n",
       "      <td>1,512.32</td>\n",
       "      <td>60,590,218,161,008.00</td>\n",
       "      <td>-0.04</td>\n",
       "      <td>14190000</td>\n",
       "      <td>2017-01-23</td>\n",
       "      <td>NaN</td>\n",
       "      <td>Single Family Residential</td>\n",
       "    </tr>\n",
       "    <tr>\n",
       "      <th>45321</th>\n",
       "      <td>11712736</td>\n",
       "      <td>261.00</td>\n",
       "      <td>7.00</td>\n",
       "      <td>1.00</td>\n",
       "      <td>3.00</td>\n",
       "      <td>6.00</td>\n",
       "      <td>1,151.00</td>\n",
       "      <td>1,151.00</td>\n",
       "      <td>6,037.00</td>\n",
       "      <td>1.00</td>\n",
       "      <td>...</td>\n",
       "      <td>471,018.00</td>\n",
       "      <td>2,016.00</td>\n",
       "      <td>359,935.00</td>\n",
       "      <td>5,756.00</td>\n",
       "      <td>60,372,360,001,003.00</td>\n",
       "      <td>-0.07</td>\n",
       "      <td>11712736</td>\n",
       "      <td>2017-06-12</td>\n",
       "      <td>Floor/Wall</td>\n",
       "      <td>Single Family Residential</td>\n",
       "    </tr>\n",
       "    <tr>\n",
       "      <th>65834</th>\n",
       "      <td>10932423</td>\n",
       "      <td>261.00</td>\n",
       "      <td>2.00</td>\n",
       "      <td>3.00</td>\n",
       "      <td>4.00</td>\n",
       "      <td>7.00</td>\n",
       "      <td>2,909.00</td>\n",
       "      <td>2,909.00</td>\n",
       "      <td>6,037.00</td>\n",
       "      <td>3.00</td>\n",
       "      <td>...</td>\n",
       "      <td>1,012,640.00</td>\n",
       "      <td>2,016.00</td>\n",
       "      <td>853,682.00</td>\n",
       "      <td>12,280.04</td>\n",
       "      <td>60,371,436,031,000.00</td>\n",
       "      <td>0.10</td>\n",
       "      <td>10932423</td>\n",
       "      <td>2017-08-11</td>\n",
       "      <td>Central</td>\n",
       "      <td>Single Family Residential</td>\n",
       "    </tr>\n",
       "  </tbody>\n",
       "</table>\n",
       "<p>5 rows × 32 columns</p>\n",
       "</div>"
      ],
      "text/plain": [
       "       parcelid  propertylandusetypeid  heatingorsystemtypeid  \\\n",
       "9322   11769252                 261.00                   2.00   \n",
       "37985  13885646                 261.00                    nan   \n",
       "4751   14190000                 261.00                    nan   \n",
       "45321  11712736                 261.00                   7.00   \n",
       "65834  10932423                 261.00                   2.00   \n",
       "\n",
       "               bathroomcnt           bedroomcnt  buildingqualitytypeid  \\\n",
       "9322                  2.00                 3.00                   6.00   \n",
       "37985                 2.00                 3.00                    nan   \n",
       "4751                  2.50                 4.00                    nan   \n",
       "45321                 1.00                 3.00                   6.00   \n",
       "65834                 3.00                 4.00                   7.00   \n",
       "\n",
       "       calculatedfinishedsquarefeet  finishedsquarefeet12  \\\n",
       "9322                       1,168.00              1,168.00   \n",
       "37985                      1,286.00              1,286.00   \n",
       "4751                       2,114.00              2,114.00   \n",
       "45321                      1,151.00              1,151.00   \n",
       "65834                      2,909.00              2,909.00   \n",
       "\n",
       "                      fips          fullbathcnt  ...    taxvaluedollarcnt  \\\n",
       "9322              6,037.00                 2.00  ...           179,231.00   \n",
       "37985             6,059.00                 2.00  ...           135,979.00   \n",
       "4751              6,059.00                 2.00  ...           114,314.00   \n",
       "45321             6,037.00                 1.00  ...           471,018.00   \n",
       "65834             6,037.00                 3.00  ...         1,012,640.00   \n",
       "\n",
       "            assessmentyear  landtaxvaluedollarcnt            taxamount  \\\n",
       "9322              2,016.00             138,765.00             2,244.26   \n",
       "37985             2,016.00              43,007.00             1,678.70   \n",
       "4751              2,016.00              44,303.00             1,512.32   \n",
       "45321             2,016.00             359,935.00             5,756.00   \n",
       "65834             2,016.00             853,682.00            12,280.04   \n",
       "\n",
       "        censustractandblock             logerror       pid       tdate  \\\n",
       "9322  60,372,282,203,004.00                 0.02  11769252  2017-02-13   \n",
       "37985 60,590,760,002,004.00                -0.04  13885646  2017-05-19   \n",
       "4751  60,590,218,161,008.00                -0.04  14190000  2017-01-23   \n",
       "45321 60,372,360,001,003.00                -0.07  11712736  2017-06-12   \n",
       "65834 60,371,436,031,000.00                 0.10  10932423  2017-08-11   \n",
       "\n",
       "       heatingorsystemdesc        propertylandusedesc  \n",
       "9322               Central  Single Family Residential  \n",
       "37985                  NaN  Single Family Residential  \n",
       "4751                   NaN  Single Family Residential  \n",
       "45321           Floor/Wall  Single Family Residential  \n",
       "65834              Central  Single Family Residential  \n",
       "\n",
       "[5 rows x 32 columns]"
      ]
     },
     "execution_count": 8,
     "metadata": {},
     "output_type": "execute_result"
    }
   ],
   "source": [
    "# Now splitting the dataframe:\n",
    "\n",
    "train, validate, test = wrangle_zillow.split_zillow_data(df)\n",
    "train.head()"
   ]
  },
  {
   "cell_type": "code",
   "execution_count": null,
   "metadata": {},
   "outputs": [],
   "source": []
  }
 ],
 "metadata": {
  "kernelspec": {
   "display_name": "Python 3",
   "language": "python",
   "name": "python3"
  },
  "language_info": {
   "codemirror_mode": {
    "name": "ipython",
    "version": 3
   },
   "file_extension": ".py",
   "mimetype": "text/x-python",
   "name": "python",
   "nbconvert_exporter": "python",
   "pygments_lexer": "ipython3",
   "version": "3.7.9"
  }
 },
 "nbformat": 4,
 "nbformat_minor": 4
}
